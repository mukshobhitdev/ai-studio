{
 "cells": [
  {
   "cell_type": "code",
   "execution_count": 5,
   "metadata": {},
   "outputs": [
    {
     "name": "stdout",
     "output_type": "stream",
     "text": [
      "  First Name Last Name     Sex                       Email Date of birth  \\\n",
      "0     Shelby   Terrell    Male        elijah57@example.net    1945-10-26   \n",
      "1    Phillip   Summers  Female       bethany14@example.com    1910-03-24   \n",
      "2   Kristine    Travis    Male       bthompson@example.com    1992-07-02   \n",
      "3    Yesenia  Martinez    Male   kaitlinkaiser@example.com    2017-08-03   \n",
      "4       Lori      Todd    Male  buchananmanuel@example.net    1938-12-01   \n",
      "\n",
      "            Job Title  \n",
      "0     Games developer  \n",
      "1      Phytotherapist  \n",
      "2           Homeopath  \n",
      "3   Market researcher  \n",
      "4  Veterinary surgeon  \n"
     ]
    }
   ],
   "source": [
    "import pandas as pd\n",
    "\n",
    "df = pd.read_csv('data/people_data.csv', escapechar='\\\\')\n",
    "print(df)"
   ]
  },
  {
   "cell_type": "code",
   "execution_count": 6,
   "metadata": {},
   "outputs": [
    {
     "name": "stdout",
     "output_type": "stream",
     "text": [
      "0      Shelby\n",
      "1     Phillip\n",
      "2    Kristine\n",
      "3     Yesenia\n",
      "4        Lori\n",
      "Name: First Name, dtype: object\n"
     ]
    }
   ],
   "source": [
    "print(df['First Name'])"
   ]
  },
  {
   "cell_type": "markdown",
   "metadata": {},
   "source": [
    "This is Program for Pandas"
   ]
  },
  {
   "cell_type": "code",
   "execution_count": 7,
   "metadata": {},
   "outputs": [
    {
     "name": "stdout",
     "output_type": "stream",
     "text": [
      "0     Terrell\n",
      "1     Summers\n",
      "2      Travis\n",
      "3    Martinez\n",
      "4        Todd\n",
      "Name: Last Name, dtype: object\n"
     ]
    }
   ],
   "source": [
    "print(df['Last Name'])"
   ]
  }
 ],
 "metadata": {
  "kernelspec": {
   "display_name": "myenv",
   "language": "python",
   "name": "python3"
  },
  "language_info": {
   "codemirror_mode": {
    "name": "ipython",
    "version": 3
   },
   "file_extension": ".py",
   "mimetype": "text/x-python",
   "name": "python",
   "nbconvert_exporter": "python",
   "pygments_lexer": "ipython3",
   "version": "3.13.1"
  }
 },
 "nbformat": 4,
 "nbformat_minor": 2
}
